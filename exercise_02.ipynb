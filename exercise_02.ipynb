{
 "cells": [
  {
   "cell_type": "markdown",
   "metadata": {},
   "source": [
    "# Exercise 02: Multi-class Classification \n",
    "In this exercise, you will train a deep model on the CIFAR10-LT from the scratch using PyTorch. The following tasks should be done:\n",
    "- Task 1: per batch training/testing\n",
    "- Task 2: Plotting Loss and Accuracy\n",
    "- Task 3: Instance inference and visualization"
   ]
  },
  {
   "cell_type": "markdown",
   "metadata": {},
   "source": [
    "### Basic Imports"
   ]
  },
  {
   "cell_type": "code",
   "execution_count": 4,
   "metadata": {},
   "outputs": [],
   "source": [
    "import os\n",
    "import time\n",
    "import os.path as osp\n",
    "\n",
    "import numpy as np\n",
    "import pandas as pd\n",
    "\n",
    "import torch\n",
    "import torch.nn as nn\n",
    "import torch.nn.functional as F\n",
    "import torch.optim as optim\n",
    "from torch.utils.data import DataLoader\n",
    "\n",
    "from torchvision import datasets\n",
    "from torchvision import transforms\n",
    "import torchvision\n",
    "\n",
    "import matplotlib.pyplot as plt\n",
    "from PIL import Image\n",
    "\n",
    "from imbalance_data.cifar10Imbanlance import Cifar10Imbanlance # dataloader\n",
    "from models.simplenet import SimpleNet # model"
   ]
  },
  {
   "cell_type": "markdown",
   "metadata": {},
   "source": [
    "### Hyperparameters"
   ]
  },
  {
   "cell_type": "code",
   "execution_count": 12,
   "metadata": {},
   "outputs": [],
   "source": [
    "# random seed\n",
    "SEED = 1 \n",
    "\n",
    "# Dataset\n",
    "IMBALANCE_RATIO = 0.1\n",
    "DATASET_DIR = \"/shareddata/\"\n",
    "# DATASET_DIR = \"./data\"\n",
    "NUM_CLASS = 10\n",
    "\n",
    "# Training\n",
    "BATCH_SIZE = 128\n",
    "NUM_EPOCHS = 30\n",
    "EVAL_INTERVAL=1\n",
    "SAVE_DIR = './log'\n",
    "\n",
    "# Optimizer\n",
    "LEARNING_RATE = 1e-1\n",
    "MOMENTUM = 0.9\n",
    "STEP=5\n",
    "GAMMA=0.5\n"
   ]
  },
  {
   "cell_type": "markdown",
   "metadata": {},
   "source": [
    "### Device"
   ]
  },
  {
   "cell_type": "code",
   "execution_count": 5,
   "metadata": {},
   "outputs": [],
   "source": [
    "device = torch.device(\"cuda:0\" if torch.cuda.is_available() else \"cpu\")"
   ]
  },
  {
   "cell_type": "markdown",
   "metadata": {},
   "source": [
    "\n",
    "### Dataset\n"
   ]
  },
  {
   "cell_type": "code",
   "execution_count": 6,
   "metadata": {},
   "outputs": [
    {
     "ename": "NameError",
     "evalue": "name 'IMBALANCE_RATIO' is not defined",
     "output_type": "error",
     "traceback": [
      "\u001b[0;31m---------------------------------------------------------------------------\u001b[0m",
      "\u001b[0;31mNameError\u001b[0m                                 Traceback (most recent call last)",
      "\u001b[1;32m/data/lab/STA303-Exercise02/exercise_02.ipynb 单元格 9\u001b[0m line \u001b[0;36m1\n\u001b[0;32m----> <a href='vscode-notebook-cell://ssh-remote%2Bsta303_teacher/data/lab/STA303-Exercise02/exercise_02.ipynb#X11sdnNjb2RlLXJlbW90ZQ%3D%3D?line=0'>1</a>\u001b[0m imbanlance_rate \u001b[39m=\u001b[39m IMBALANCE_RATIO\n\u001b[1;32m      <a href='vscode-notebook-cell://ssh-remote%2Bsta303_teacher/data/lab/STA303-Exercise02/exercise_02.ipynb#X11sdnNjb2RlLXJlbW90ZQ%3D%3D?line=1'>2</a>\u001b[0m root \u001b[39m=\u001b[39m DATASET_DIR\n\u001b[1;32m      <a href='vscode-notebook-cell://ssh-remote%2Bsta303_teacher/data/lab/STA303-Exercise02/exercise_02.ipynb#X11sdnNjb2RlLXJlbW90ZQ%3D%3D?line=3'>4</a>\u001b[0m \u001b[39m# cifar10 transform\u001b[39;00m\n",
      "\u001b[0;31mNameError\u001b[0m: name 'IMBALANCE_RATIO' is not defined"
     ]
    }
   ],
   "source": [
    "imbanlance_rate = IMBALANCE_RATIO\n",
    "root = DATASET_DIR\n",
    "\n",
    "# cifar10 transform\n",
    "transform_cifar10_train = transforms.Compose([\n",
    "    transforms.RandomCrop(32, padding=4),\n",
    "    transforms.RandomHorizontalFlip(),\n",
    "    transforms.ToTensor(),\n",
    "    transforms.Normalize((0.4914, 0.4822, 0.4465), (0.2023, 0.1994, 0.2010)),\n",
    "])\n",
    "\n",
    "transform_cifar10_test = transforms.Compose([\n",
    "    transforms.ToTensor(),\n",
    "    transforms.Normalize((0.4914, 0.4822, 0.4465), (0.2023, 0.1994, 0.2010)),\n",
    "])\n",
    "\n",
    "\n",
    "trainset = Cifar10Imbanlance(imbanlance_rate, transform=transform_cifar10_train, train=True, file_path=root)\n",
    "testset = Cifar10Imbanlance(imbanlance_rate, transform=transform_cifar10_test, train=False, file_path=root)\n",
    "\n",
    "\n",
    "train_dataloader = torch.utils.data.DataLoader(trainset, batch_size=BATCH_SIZE, shuffle=True)\n",
    "test_dataloader = torch.utils.data.DataLoader(testset, batch_size=BATCH_SIZE, shuffle=False)\n",
    "\n",
    "\n",
    "\n",
    "\n",
    "d=dict()\n",
    "for train_data,train_label in train_dataloader:\n",
    "    for labels in train_label:\n",
    "        label=labels.item()\n",
    "        if label in d.keys():\n",
    "            d[label]+=1\n",
    "        else:\n",
    "            d[label]=1\n",
    "\n",
    "num = max(d.keys()) + 1\n",
    "class_counts = torch.zeros(num, dtype=torch.int64)\n",
    "for label, count in d.items():\n",
    "    class_counts[label] = count \n",
    "\n",
    "class_names = ['airplane', 'automobile', 'bird', 'cat', 'deer', 'dog', 'frog', 'horse', 'ship', 'truck']\n",
    "\n",
    "for i, count in enumerate(class_counts):\n",
    "    print(f\"{class_names[i]}: {int(count)} samples\")"
   ]
  },
  {
   "cell_type": "markdown",
   "metadata": {},
   "source": [
    "### Model"
   ]
  },
  {
   "cell_type": "code",
   "execution_count": 15,
   "metadata": {},
   "outputs": [],
   "source": [
    "class ConvNet(nn.Module):\n",
    "    def __init__(self):\n",
    "        super(SimpleNet, self).__init__()\n",
    "        self.conv1 = nn.Conv2d(3, 4, 3)  \n",
    "        self.pool = nn.MaxPool2d(2, 2)\n",
    "        self.conv2 = nn.Conv2d(4, 8, 3)  \n",
    "        self.fc1 = nn.Linear(8 * 6 * 6, 32)\n",
    "        self.fc2 = nn.Linear(32, 10)\n",
    "\n",
    "    def forward(self, x):\n",
    "        x = self.pool(torch.relu(self.conv1(x)))\n",
    "        x = self.pool(torch.relu(self.conv2(x)))\n",
    "        x = x.view(-1, 8 * 6 * 6)\n",
    "        x = torch.relu(self.fc1(x))\n",
    "        x = self.fc2(x)\n",
    "        return x\n",
    "    "
   ]
  },
  {
   "cell_type": "code",
   "execution_count": null,
   "metadata": {},
   "outputs": [],
   "source": [
    "model = ConvNet()"
   ]
  },
  {
   "cell_type": "markdown",
   "metadata": {},
   "source": [
    "### Optimizer"
   ]
  },
  {
   "cell_type": "code",
   "execution_count": 16,
   "metadata": {},
   "outputs": [],
   "source": [
    "optimizer = optim.SGD(model.parameters(), lr=LEARNING_RATE, momentum=MOMENTUM)\n",
    "\n",
    "scheduler = torch.optim.lr_scheduler.StepLR(optimizer, step_size=STEP, gamma=GAMMA)"
   ]
  },
  {
   "cell_type": "markdown",
   "metadata": {},
   "source": [
    "### Task 1: per batch training/testing\n",
    "---\n",
    "\n",
    "Please denfine two function named ``train_batch`` and ``test_batch``. These functions are essential for training and evaluating machine learning models using batched data from dataloaders.\n",
    "\n",
    "**To do**: \n",
    "1. Define the loss function i.e [nn.CrossEntropyLoss()](https://pytorch.org/docs/stable/generated/torch.nn.CrossEntropyLoss.html).\n",
    "2. Take the image as the input and generate the output using the pre-defined SimpleNet.\n",
    "3. Calculate the loss between the output and the corresponding label using the loss function."
   ]
  },
  {
   "cell_type": "code",
   "execution_count": null,
   "metadata": {},
   "outputs": [],
   "source": [
    "##################### Write your answer here ##################\n",
    "# Define the loss function\n",
    "loss_fn = \n",
    "###############################################################"
   ]
  },
  {
   "cell_type": "code",
   "execution_count": 17,
   "metadata": {},
   "outputs": [],
   "source": [
    "def train_batch(model, image, target):\n",
    "    \"\"\"\n",
    "    Perform one training batch iteration.\n",
    "\n",
    "    Args:\n",
    "        model (torch.nn.Module): The machine learning model to train.\n",
    "        image (torch.Tensor): Batch of input data (images).\n",
    "        target (torch.Tensor): Batch of target labels.\n",
    "\n",
    "    Returns:\n",
    "        torch.Tensor: Model output (predictions) for the batch.\n",
    "        torch.Tensor: Loss value calculated by the defined loss function loss_fn().\n",
    "    \"\"\"\n",
    "    \n",
    "    ##################### Write your answer here ##################\n",
    "\n",
    "    ###############################################################\n",
    "\n",
    "    return output, loss"
   ]
  },
  {
   "cell_type": "code",
   "execution_count": null,
   "metadata": {},
   "outputs": [],
   "source": [
    "\n",
    "def test_batch(model, image, target):\n",
    "    \"\"\"\n",
    "    Perform one testing batch iteration.\n",
    "\n",
    "    Args:\n",
    "        model (torch.nn.Module): The machine learning model to evaluate.\n",
    "        image (torch.Tensor): Batch of input data (images).\n",
    "        target (torch.Tensor): Batch of target labels.\n",
    "\n",
    "    Returns:\n",
    "        torch.Tensor: Model output (predictions) for the batch.\n",
    "        torch.Tensor: Loss value calculated for the batch.\n",
    "    \"\"\"\n",
    "\n",
    "    ##################### Write your answer here ##################\n",
    "    output = model(image)\n",
    "    loss = criterion(output, target)\n",
    "    ###############################################################\n",
    "\n",
    "    return output, loss"
   ]
  },
  {
   "cell_type": "markdown",
   "metadata": {},
   "source": [
    "### Model Training"
   ]
  },
  {
   "cell_type": "code",
   "execution_count": 18,
   "metadata": {},
   "outputs": [
    {
     "name": "stdout",
     "output_type": "stream",
     "text": [
      "Epoch: 1/30 Train Loss: 0.0142 Acc: 0.3391\n",
      "Begin test......\n",
      "Test Loss: 0.0171 Acc: 0.2319\n",
      "Epoch: 2/30 Train Loss: 0.0129 Acc: 0.4166\n",
      "Begin test......\n",
      "Test Loss: 0.0160 Acc: 0.2856\n",
      "Epoch: 3/30 Train Loss: 0.0123 Acc: 0.4420\n",
      "Begin test......\n",
      "Test Loss: 0.0157 Acc: 0.2953\n",
      "Epoch: 4/30 Train Loss: 0.0121 Acc: 0.4558\n",
      "Begin test......\n",
      "Test Loss: 0.0155 Acc: 0.3247\n",
      "Epoch: 5/30 Train Loss: 0.0122 Acc: 0.4470\n",
      "Begin test......\n",
      "Test Loss: 0.0153 Acc: 0.2891\n",
      "Epoch: 6/30 Train Loss: 0.0115 Acc: 0.4781\n",
      "Begin test......\n",
      "Test Loss: 0.0144 Acc: 0.3463\n",
      "Epoch: 7/30 Train Loss: 0.0112 Acc: 0.4954\n",
      "Begin test......\n",
      "Test Loss: 0.0143 Acc: 0.3531\n",
      "Epoch: 8/30 Train Loss: 0.0112 Acc: 0.4930\n",
      "Begin test......\n",
      "Test Loss: 0.0148 Acc: 0.3557\n",
      "Epoch: 9/30 Train Loss: 0.0112 Acc: 0.4971\n",
      "Begin test......\n",
      "Test Loss: 0.0151 Acc: 0.3643\n",
      "Epoch: 10/30 Train Loss: 0.0111 Acc: 0.5021\n",
      "Begin test......\n",
      "Test Loss: 0.0146 Acc: 0.3473\n",
      "Epoch: 11/30 Train Loss: 0.0107 Acc: 0.5175\n",
      "Begin test......\n",
      "Test Loss: 0.0145 Acc: 0.3478\n",
      "Epoch: 12/30 Train Loss: 0.0105 Acc: 0.5254\n",
      "Begin test......\n",
      "Test Loss: 0.0133 Acc: 0.3895\n",
      "Epoch: 13/30 Train Loss: 0.0105 Acc: 0.5253\n",
      "Begin test......\n",
      "Test Loss: 0.0133 Acc: 0.3908\n",
      "Epoch: 14/30 Train Loss: 0.0105 Acc: 0.5288\n",
      "Begin test......\n",
      "Test Loss: 0.0138 Acc: 0.3872\n",
      "Epoch: 15/30 Train Loss: 0.0104 Acc: 0.5282\n",
      "Begin test......\n",
      "Test Loss: 0.0137 Acc: 0.3942\n",
      "Epoch: 16/30 Train Loss: 0.0102 Acc: 0.5411\n",
      "Begin test......\n",
      "Test Loss: 0.0133 Acc: 0.4136\n",
      "Epoch: 17/30 Train Loss: 0.0102 Acc: 0.5396\n",
      "Begin test......\n",
      "Test Loss: 0.0134 Acc: 0.3835\n",
      "Epoch: 18/30 Train Loss: 0.0101 Acc: 0.5474\n",
      "Begin test......\n",
      "Test Loss: 0.0132 Acc: 0.4090\n",
      "Epoch: 19/30 Train Loss: 0.0101 Acc: 0.5479\n",
      "Begin test......\n",
      "Test Loss: 0.0127 Acc: 0.4072\n",
      "Epoch: 20/30 Train Loss: 0.0101 Acc: 0.5454\n",
      "Begin test......\n",
      "Test Loss: 0.0129 Acc: 0.4059\n",
      "Epoch: 21/30 Train Loss: 0.0099 Acc: 0.5493\n",
      "Begin test......\n",
      "Test Loss: 0.0130 Acc: 0.4110\n",
      "Epoch: 22/30 Train Loss: 0.0099 Acc: 0.5553\n",
      "Begin test......\n",
      "Test Loss: 0.0129 Acc: 0.4111\n",
      "Epoch: 23/30 Train Loss: 0.0098 Acc: 0.5566\n",
      "Begin test......\n",
      "Test Loss: 0.0127 Acc: 0.4138\n",
      "Epoch: 24/30 Train Loss: 0.0098 Acc: 0.5560\n",
      "Begin test......\n",
      "Test Loss: 0.0128 Acc: 0.4139\n",
      "Epoch: 25/30 Train Loss: 0.0098 Acc: 0.5595\n",
      "Begin test......\n",
      "Test Loss: 0.0126 Acc: 0.4239\n",
      "Epoch: 26/30 Train Loss: 0.0097 Acc: 0.5634\n",
      "Begin test......\n",
      "Test Loss: 0.0125 Acc: 0.4243\n",
      "Epoch: 27/30 Train Loss: 0.0097 Acc: 0.5640\n",
      "Begin test......\n",
      "Test Loss: 0.0125 Acc: 0.4235\n",
      "Epoch: 28/30 Train Loss: 0.0097 Acc: 0.5606\n",
      "Begin test......\n",
      "Test Loss: 0.0125 Acc: 0.4224\n",
      "Epoch: 29/30 Train Loss: 0.0097 Acc: 0.5594\n",
      "Begin test......\n",
      "Test Loss: 0.0126 Acc: 0.4165\n",
      "Epoch: 30/30 Train Loss: 0.0097 Acc: 0.5628\n",
      "Begin test......\n",
      "Test Loss: 0.0126 Acc: 0.4186\n"
     ]
    }
   ],
   "source": [
    "training_loss = []\n",
    "training_acc = []\n",
    "testing_loss = []\n",
    "testing_acc = []\n",
    "\n",
    "for epoch in range(NUM_EPOCHS):\n",
    "    model.train()\n",
    "    torch.cuda.empty_cache()\n",
    "\n",
    "    ##########################\n",
    "    ### Training\n",
    "    ##########################\n",
    "\n",
    "    running_cls_loss = 0.0\n",
    "    running_cls_corrects = 0\n",
    "\n",
    "    for batch_idx, (image, target) in enumerate(train_dataloader):\n",
    "\n",
    "        image = image.to(device)\n",
    "        target = target.to(device)\n",
    "\n",
    "        # train model\n",
    "        outputs, loss = train_batch(model, image, target)\n",
    "        _, preds = torch.max(outputs, 1)\n",
    "\n",
    "        \n",
    "        loss_data = loss.data.item()\n",
    "        if np.isnan(loss_data):\n",
    "            raise ValueError('loss is nan while training')\n",
    "        running_cls_loss += loss.item()\n",
    "        running_cls_corrects += torch.sum(preds == target.data)\n",
    "\n",
    "        loss.backward()\n",
    "        optimizer.step()\n",
    "        optimizer.zero_grad()\n",
    "\n",
    "    epoch_loss = running_cls_loss / len(trainset)\n",
    "    epoch_acc = running_cls_corrects.double() / len(trainset)\n",
    "\n",
    "    print(f'Epoch: {epoch+1}/{NUM_EPOCHS} Train Loss: {epoch_loss:.4f} Acc: {epoch_acc:.4f}')\n",
    "\n",
    "    training_loss.append(epoch_loss)\n",
    "    training_acc.append(epoch_acc.cpu().detach().numpy())\n",
    "\n",
    "    # change learning rate\n",
    "    scheduler.step()\n",
    "\n",
    "\n",
    "    ##########################\n",
    "    ### Testing\n",
    "    ##########################\n",
    "    # # eval model during training or in the last epoch\n",
    "    if (epoch + 1) % EVAL_INTERVAL == 0 or (epoch +1) == NUM_EPOCHS:\n",
    "        print('Begin test......')\n",
    "        model.eval()\n",
    "\n",
    "        val_loss = 0.0\n",
    "        val_corrects = 0\n",
    "\n",
    "        for batch_idx, (image, target) in enumerate(test_dataloader):\n",
    "\n",
    "            image = image.to(device)\n",
    "            target = target.to(device)\n",
    "\n",
    "            # test model\n",
    "            outputs, loss = test_batch(model, image, target)\n",
    "            _, preds = torch.max(outputs, 1)\n",
    "            \n",
    "            val_loss += loss.item()\n",
    "            val_corrects += torch.sum(preds == target.data)\n",
    "\n",
    "        val_loss = val_loss / len(testset)\n",
    "        val_acc = val_corrects.double() / len(testset)\n",
    "        print(f'Test Loss: {val_loss:.4f} Acc: {val_acc:.4f}')\n",
    "        testing_loss.append(val_loss)\n",
    "        testing_acc.append(val_acc.cpu().detach().numpy())\n",
    "\n",
    "        # save the model in last epoch\n",
    "        if (epoch +1) == NUM_EPOCHS:\n",
    "            \n",
    "            state = {\n",
    "            'state_dict': model.state_dict(),\n",
    "            'acc': epoch_acc,\n",
    "            'epoch': (epoch+1),\n",
    "            }\n",
    "\n",
    "            # check the dir\n",
    "            if not os.path.exists(SAVE_DIR):\n",
    "                os.makedirs(SAVE_DIR)\n",
    "\n",
    "            # save the state\n",
    "            torch.save(state, osp.join(SAVE_DIR, 'checkpoint_%s.pth' % (str(epoch+1))))"
   ]
  },
  {
   "cell_type": "markdown",
   "metadata": {},
   "source": [
    "### Task 2: Instance inference and visualization\n",
    "---\n",
    "The task is to create a function named ``instance_inference`` that visualizes an image along with model predictions and class probabilities. Note that this function assumes that you have a pre-trained model and you are passing the model's output tensor as outputs. The function then extracts predictions and probabilities from this output tensor.\n",
    "**To do**: \n",
    "1. Calculate the prediction and the probabilities for each class.\n",
    "         "
   ]
  },
  {
   "cell_type": "code",
   "execution_count": 3,
   "metadata": {},
   "outputs": [
    {
     "ename": "NameError",
     "evalue": "name 'test_dataloader' is not defined",
     "output_type": "error",
     "traceback": [
      "\u001b[0;31m---------------------------------------------------------------------------\u001b[0m",
      "\u001b[0;31mNameError\u001b[0m                                 Traceback (most recent call last)",
      "\u001b[1;32m/data/lab/STA303-Exercise02/exercise_02.ipynb 单元格 22\u001b[0m line \u001b[0;36m1\n\u001b[0;32m----> <a href='vscode-notebook-cell://ssh-remote%2Bsta303_teacher/data/lab/STA303-Exercise02/exercise_02.ipynb#X33sdnNjb2RlLXJlbW90ZQ%3D%3D?line=0'>1</a>\u001b[0m inputs, classes \u001b[39m=\u001b[39m \u001b[39mnext\u001b[39m(\u001b[39miter\u001b[39m(test_dataloader))\n\u001b[1;32m      <a href='vscode-notebook-cell://ssh-remote%2Bsta303_teacher/data/lab/STA303-Exercise02/exercise_02.ipynb#X33sdnNjb2RlLXJlbW90ZQ%3D%3D?line=1'>2</a>\u001b[0m inputs \u001b[39m=\u001b[39m inputs[\u001b[39m0\u001b[39m]\n\u001b[1;32m      <a href='vscode-notebook-cell://ssh-remote%2Bsta303_teacher/data/lab/STA303-Exercise02/exercise_02.ipynb#X33sdnNjb2RlLXJlbW90ZQ%3D%3D?line=2'>3</a>\u001b[0m images \u001b[39m=\u001b[39m inputs\u001b[39m.\u001b[39mnumpy()\u001b[39m.\u001b[39mtranspose((\u001b[39m1\u001b[39m, \u001b[39m2\u001b[39m, \u001b[39m0\u001b[39m))\n",
      "\u001b[0;31mNameError\u001b[0m: name 'test_dataloader' is not defined"
     ]
    }
   ],
   "source": [
    "inputs, classes = next(iter(test_dataloader))\n",
    "image = inputs[0].numpy().transpose((1, 2, 0))\n",
    "plt.imshow(image)"
   ]
  },
  {
   "cell_type": "code",
   "execution_count": 7,
   "metadata": {},
   "outputs": [],
   "source": [
    "\n",
    "    ##################### Write your answer here ##################\n",
    "    # input: image, model\n",
    "    # outputs: predict_index, probabilities\n",
    "    ###############################################################\n"
   ]
  },
  {
   "cell_type": "code",
   "execution_count": 22,
   "metadata": {},
   "outputs": [
    {
     "name": "stdout",
     "output_type": "stream",
     "text": [
      "tensor([0], device='cuda:0')\n"
     ]
    },
    {
     "data": {
      "image/png": "[encoded data removed]",
      "text/plain": [
       "<Figure size 640x480 with 1 Axes>"
      ]
     },
     "metadata": {},
     "output_type": "display_data"
    },
    {
     "name": "stdout",
     "output_type": "stream",
     "text": [
      "Print probabilities for each class:\n",
      "airplane: 0.7978\n",
      "automobile: 0.0437\n",
      "bird: 0.0144\n",
      "cat: 0.0011\n",
      "deer: 0.0012\n",
      "dog: 0.0001\n",
      "frog: 0.0001\n",
      "horse: 0.0002\n",
      "ship: 0.1305\n",
      "truck: 0.0109\n"
     ]
    }
   ],
   "source": [
    "    predicted_class = class_names[predict_index.item()]\n",
    "    predicted_probability = probabilities[predict_index].item()\n",
    "\n",
    "    plt.text(17, 30, f'Predicted Class: {predicted_class}\\nProbability: {predicted_probability:.2f}', \n",
    "             color='white', backgroundcolor='black', fontsize=8)\n",
    "    plt.show()\n",
    "\n",
    "    # Print probabilities for each class\n",
    "    print('Print probabilities for each class:')\n",
    "    for i in range(len(class_names)):\n",
    "        print(f'{class_names[i]}: {probabilities[i].item():.4f}')"
   ]
  }
 ],
 "metadata": {
  "kernelspec": {
   "display_name": "calibration",
   "language": "python",
   "name": "python3"
  },
  "language_info": {
   "codemirror_mode": {
    "name": "ipython",
    "version": 3
   },
   "file_extension": ".py",
   "mimetype": "text/x-python",
   "name": "python",
   "nbconvert_exporter": "python",
   "pygments_lexer": "ipython3",
   "version": "3.10.12"
  },
  "orig_nbformat": 4
 },
 "nbformat": 4,
 "nbformat_minor": 2
}
